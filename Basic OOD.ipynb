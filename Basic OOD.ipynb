{
 "cells": [
  {
   "cell_type": "markdown",
   "metadata": {},
   "source": [
    "## Import Libraries"
   ]
  },
  {
   "cell_type": "markdown",
   "metadata": {},
   "source": [
    " Requirements\n",
    " * numpy\n",
    " * torch\n",
    " * matplotlib\n",
    " * torchvision - for datasets\n",
    " * scipy for loading the datasets\n",
    " \n",
    " For setting up an environment please follow the instructions in https://github.com/AbinavRavi/OOD-detection/blob/master/README.md \n",
    " After setting up the environment please run the cells one by one. The notebook should run without a GPU. "
   ]
  },
  {
   "cell_type": "code",
   "execution_count": 4,
   "metadata": {},
   "outputs": [],
   "source": [
    "import numpy as np\n",
    "import matplotlib.pyplot as plt\n",
    "import torch.nn as nn\n",
    "import torch.nn.functional as F\n",
    "import torch\n",
    "from torchvision import datasets as datasets\n",
    "from torchvision.transforms import transforms\n",
    "import os\n",
    "import sys"
   ]
  },
  {
   "cell_type": "markdown",
   "metadata": {},
   "source": [
    "### Load the data"
   ]
  },
  {
   "cell_type": "markdown",
   "metadata": {},
   "source": [
    "The In -distrbution dataset that we will use in this demonstration is MNIST and the Out of distribution dataset is SVHN. \n",
    "\n",
    "Reasons for choosing SVHN as Out of Distribution dataset\n",
    "1. Similar size\n",
    "2. Different intensity\n",
    "\n",
    "In a production pipeline most images undergo same pre-processing and hence we don't need to choose the dataset during inference. Since this is a toy example we select an appropriate dataset."
   ]
  },
  {
   "cell_type": "code",
   "execution_count": null,
   "metadata": {},
   "outputs": [],
   "source": [
    "transforms = transforms.to_tensor()\n",
    "path = './IDdata/'\n",
    "if(os.path.exists() = False):\n",
    "    train_data = datasets.MNIST(root='IDdata', train=True,download=True, transform=transform)\n",
    "    test_data = datasets.MNIST(root='IDdata',train=False,download=True,transform=transform)\n",
    "else:\n",
    "    train_data = datasets.MNIST(root='data', train=True,download=False, transform=transform)\n",
    "    test_data = datasets.MNIST(root='data',train=False,download=False,transform=transform)"
   ]
  }
 ],
 "metadata": {
  "kernelspec": {
   "display_name": "Python 3",
   "language": "python",
   "name": "python3"
  },
  "language_info": {
   "codemirror_mode": {
    "name": "ipython",
    "version": 3
   },
   "file_extension": ".py",
   "mimetype": "text/x-python",
   "name": "python",
   "nbconvert_exporter": "python",
   "pygments_lexer": "ipython3",
   "version": "3.6.9"
  }
 },
 "nbformat": 4,
 "nbformat_minor": 2
}
